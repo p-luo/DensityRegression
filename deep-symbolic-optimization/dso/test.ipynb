{
 "cells": [
  {
   "cell_type": "code",
   "execution_count": null,
   "metadata": {},
   "outputs": [
    {
     "ename": "",
     "evalue": "",
     "output_type": "error",
     "traceback": [
      "\u001b[1;31mThe kernel failed to start due to an outdated version of IPython. Consider updating this module to the latest version.\n",
      "\u001b[1;31mClick <a href='https://aka.ms/kernelFailuresOldIPython'>here</a> for more info."
     ]
    }
   ],
   "source": [
    "from dso import DeepSymbolicOptimizer\n",
    "\n",
    "# Create and train the model\n",
    "model = DeepSymbolicOptimizer(\"/Users/pluo/Desktop/Desktop\\ -\\ Peter\\'s\\ MacBook\\ Air/Harvard/3.5/REU/dso/dso/config/examples/config_regression.json\")\n",
    "model.train()"
   ]
  },
  {
   "cell_type": "code",
   "execution_count": 4,
   "metadata": {},
   "outputs": [
    {
     "data": {
      "text/plain": [
       "(0.9993148337667672, 2.1526981881859236e-05)"
      ]
     },
     "execution_count": 4,
     "metadata": {},
     "output_type": "execute_result"
    }
   ],
   "source": [
    "from scipy import stats\n",
    "\n",
    "y = [1,2,3,4,5]\n",
    "y_hat = [0.9,1.9,2.9,4.1,5.2]\n",
    "\n",
    "stats.pearsonr(y, y_hat)"
   ]
  },
  {
   "cell_type": "code",
   "execution_count": 21,
   "metadata": {},
   "outputs": [
    {
     "name": "stdout",
     "output_type": "stream",
     "text": [
      "Expression:\n",
      "x**2 + y*z + sin(x) + 3\n",
      "\n",
      "Symbols in the expression:\n",
      "[x, y, z]\n",
      "\n",
      "Derivatives with respect to each symbol:\n",
      "d(expr)/d(x) = 2*x + cos(x)\n",
      "d(expr)/d(y) = z\n",
      "d(expr)/d(z) = y\n",
      "[[1.]\n",
      " [2.]\n",
      " [3.]]\n",
      "[2.54030231 3.         2.        ]\n",
      "<class 'numpy.ndarray'>\n",
      "<class 'numpy.float64'>\n",
      "46.661964\n"
     ]
    }
   ],
   "source": [
    "import sympy as sp\n",
    "import numpy as np\n",
    "import jax.numpy as jnp\n",
    "\n",
    "# Step 1: Define symbols\n",
    "x, y, z = sp.symbols('x y z')\n",
    "\n",
    "# Step 2: Create an expression\n",
    "expr = x**2 + y*z + sp.sin(x) + 3\n",
    "\n",
    "# Step 3: Get the symbols in the expression\n",
    "symbols_in_expr = sorted(list(expr.free_symbols), key=lambda s: s.name)\n",
    "\n",
    "# Step 4: Differentiate with respect to each symbol\n",
    "derivatives = {symbol: expr.diff(symbol) for symbol in symbols_in_expr}\n",
    "\n",
    "# Display the results\n",
    "print(\"Expression:\")\n",
    "print(expr)\n",
    "print(\"\\nSymbols in the expression:\")\n",
    "print(symbols_in_expr)\n",
    "print(\"\\nDerivatives with respect to each symbol:\")\n",
    "for symbol, derivative in derivatives.items():\n",
    "    print(f\"d(expr)/d({symbol}) = {derivative}\")\n",
    "    \n",
    "    \n",
    "p = np.asarray([1., 2., 3.])\n",
    "q = np.asarray([4., 5., 6.])\n",
    "\n",
    "def score(p):\n",
    "    symbols_in_expr = sorted(list(expr.free_symbols), key=lambda s: s.name)\n",
    "    ell = sp.log(expr) #log-likelihood\n",
    "    derivatives = {symbol: ell.diff(symbol) for symbol in symbols_in_expr}\n",
    "    point = {symbol: value for symbol, value in zip(symbols_in_expr, p)}\n",
    "    vec_float = np.vectorize(float)\n",
    "    return vec_float(np.asarray([derivative.subs(point) for derivative in derivatives.values()]))\n",
    "\n",
    "print(p.reshape(-1,1))\n",
    "print(score(p))\n",
    "print(type(score(p)))\n",
    "print(type(score(p)[1]))\n",
    "# l1 = np.asarray([1.,2.,3.])\n",
    "# l2 = np.asarray([4.,5.,6.])\n",
    "# print(jnp.dot(l1.T,l2))\n",
    "# print(type(l1[0]))\n",
    "print(jnp.dot(score(p).T, score(q)))\n"
   ]
  }
 ],
 "metadata": {
  "kernelspec": {
   "display_name": "REU",
   "language": "python",
   "name": "python3"
  },
  "language_info": {
   "codemirror_mode": {
    "name": "ipython",
    "version": 3
   },
   "file_extension": ".py",
   "mimetype": "text/x-python",
   "name": "python",
   "nbconvert_exporter": "python",
   "pygments_lexer": "ipython3",
   "version": "3.9.19"
  }
 },
 "nbformat": 4,
 "nbformat_minor": 2
}
