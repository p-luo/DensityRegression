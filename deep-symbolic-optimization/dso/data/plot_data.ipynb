{
 "cells": [
  {
   "cell_type": "code",
   "execution_count": 7,
   "metadata": {},
   "outputs": [
    {
     "data": {
      "text/plain": [
       "(array([ 6.,  9., 18., 31., 26., 40., 42., 21.,  5.,  2.]),\n",
       " array([-2.62626012, -2.10987804, -1.59349597, -1.0771139 , -0.56073183,\n",
       "        -0.04434976,  0.47203232,  0.98841439,  1.50479646,  2.02117853,\n",
       "         2.5375606 ]),\n",
       " <BarContainer object of 10 artists>)"
      ]
     },
     "execution_count": 7,
     "metadata": {},
     "output_type": "execute_result"
    },
    {
     "data": {
      "image/png": "[encoded data removed]",
      "text/plain": [
       "<Figure size 640x480 with 1 Axes>"
      ]
     },
     "metadata": {},
     "output_type": "display_data"
    }
   ],
   "source": [
    "import matplotlib.pyplot as plt\n",
    "import pandas as pd\n",
    "import numpy as np\n",
    "\n",
    "dataset = pd.read_csv(\"/home/pl61/density-regression/deep-symbolic-optimization/dso/data/N(0,1)200.csv\", header = None)\n",
    "d = dataset.iloc[:,0]\n",
    "# print(dataset.iloc[:,0])\n",
    "plt.hist(d)\n",
    "\n",
    "# def func(x):\n",
    "#     0.00697698518859682*np.exp(4.96513837691724/(2*x**2 + 2.8266924232086468))\n",
    "\n",
    "# x_vals = np.linspace(-2, 2, 100)\n",
    "# y_vals = func(x_vals)\n",
    "\n",
    "# Step 4: Plot the function on the same axes\n",
    "# plt.plot(x_vals, y_vals, color='r', linestyle='-')\n",
    "# import numpy as np\n",
    "# from scipy.stats import norm\n",
    "# import matplotlib.pyplot as plt\n",
    "\n",
    "# # Generate some data for this \n",
    "# # demonstration.\n",
    "# data = np.random.normal(170, 10, 250)\n",
    "\n",
    "# # Fit a normal distribution to\n",
    "# # the data:\n",
    "# # mean and standard deviation\n",
    "# mu, std = norm.fit(data) \n",
    "\n",
    "# # Plot the histogram.\n",
    "# plt.hist(data, bins=25, density=True, alpha=0.6, color='b')\n",
    "\n",
    "# # Plot the PDF.\n",
    "# xmin, xmax = plt.xlim()\n",
    "# x = np.linspace(xmin, xmax, 100)\n",
    "# p = norm.pdf(x, mu, std)\n",
    "\n",
    "# plt.plot(x, p, 'k', linewidth=2)\n",
    "# title = \"Fit Values: {:.2f} and {:.2f}\".format(mu, std)\n",
    "# plt.title(title)\n",
    "\n",
    "# plt.show()\n"
   ]
  }
 ],
 "metadata": {
  "kernelspec": {
   "display_name": "cloneREU",
   "language": "python",
   "name": "python3"
  },
  "language_info": {
   "codemirror_mode": {
    "name": "ipython",
    "version": 3
   },
   "file_extension": ".py",
   "mimetype": "text/x-python",
   "name": "python",
   "nbconvert_exporter": "python",
   "pygments_lexer": "ipython3",
   "version": "3.7.12"
  }
 },
 "nbformat": 4,
 "nbformat_minor": 2
}
